{
 "cells": [
  {
   "cell_type": "code",
   "execution_count": null,
   "metadata": {},
   "outputs": [],
   "source": [
    "import cv2\n",
    "import numpy as np\n",
    "import tensorflow as tf"
   ]
  },
  {
   "cell_type": "code",
   "execution_count": null,
   "metadata": {},
   "outputs": [],
   "source": [
    "# Load the pre-trained model\n",
    "model = tf.keras.models.load_model('models/finetuned_model_v2.h5')\n",
    "\n",
    "# Define class names to match test set directories\n",
    "class_names = ['Bacterial Leaf Blight', 'Brown Spot', 'Leaf Smut']"
   ]
  },
  {
   "cell_type": "code",
   "execution_count": null,
   "metadata": {},
   "outputs": [],
   "source": [
    "def detect_disease(image):\n",
    "    # Ensure image is in BGR format (from OpenCV) and convert to RGB\n",
    "    if len(image.shape) == 3 and image.shape[2] == 3:\n",
    "        img = cv2.cvtColor(image, cv2.COLOR_BGR2RGB)\n",
    "    else:\n",
    "        img = image\n",
    "    # Resize and normalize\n",
    "    img = cv2.resize(img, (224, 224))\n",
    "    img = img / 255.0\n",
    "    # Expand dimensions for model prediction\n",
    "    img = np.expand_dims(img, axis=0)\n",
    "    # Predict\n",
    "    pred = model.predict(img)\n",
    "    class_idx = np.argmax(pred[0])\n",
    "    confidence = pred[0][class_idx]\n",
    "    return class_names[class_idx], confidence"
   ]
  },
  {
   "cell_type": "code",
   "execution_count": null,
   "metadata": {},
   "outputs": [],
   "source": [
    "# Test with a local image file\n",
    "test_image_path = \"data/processed/test/Bacterial Leaf Blight/sample_image.jpg\"\n",
    "test_image = cv2.imread(test_image_path)\n",
    "if test_image is not None:\n",
    "    result, conf = detect_disease(test_image)\n",
    "    print(f\"Detected: {result} (Confidence: {conf:.2f})\")\n",
    "else:\n",
    "    print(f\"Failed to load test image: {test_image_path}\")"
   ]
  }
 ],
 "metadata": {
  "kernelspec": {
   "display_name": "Python 3",
   "language": "python",
   "name": "python3"
  },
  "language_info": {
   "name": "python"
  }
 },
 "nbformat": 4,
 "nbformat_minor": 5
}