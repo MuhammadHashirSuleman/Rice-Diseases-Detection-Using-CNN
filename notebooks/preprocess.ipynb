{
 "cells": [
  {
   "cell_type": "code",
   "execution_count": 1,
   "id": "af032ca9",
   "metadata": {
    "vscode": {
     "languageId": "plaintext"
    }
   },
   "outputs": [
    {
     "ename": "ModuleNotFoundError",
     "evalue": "No module named 'tensorflow'",
     "output_type": "error",
     "traceback": [
      "\u001b[31m---------------------------------------------------------------------------\u001b[39m",
      "\u001b[31mModuleNotFoundError\u001b[39m                       Traceback (most recent call last)",
      "\u001b[36mCell\u001b[39m\u001b[36m \u001b[39m\u001b[32mIn[1]\u001b[39m\u001b[32m, line 4\u001b[39m\n\u001b[32m      2\u001b[39m \u001b[38;5;28;01mimport\u001b[39;00m\u001b[38;5;250m \u001b[39m\u001b[34;01mcv2\u001b[39;00m\n\u001b[32m      3\u001b[39m \u001b[38;5;28;01mimport\u001b[39;00m\u001b[38;5;250m \u001b[39m\u001b[34;01mnumpy\u001b[39;00m\u001b[38;5;250m \u001b[39m\u001b[38;5;28;01mas\u001b[39;00m\u001b[38;5;250m \u001b[39m\u001b[34;01mnp\u001b[39;00m\n\u001b[32m----> \u001b[39m\u001b[32m4\u001b[39m \u001b[38;5;28;01mfrom\u001b[39;00m\u001b[38;5;250m \u001b[39m\u001b[34;01mtensorflow\u001b[39;00m\u001b[34;01m.\u001b[39;00m\u001b[34;01mkeras\u001b[39;00m\u001b[34;01m.\u001b[39;00m\u001b[34;01mpreprocessing\u001b[39;00m\u001b[34;01m.\u001b[39;00m\u001b[34;01mimage\u001b[39;00m\u001b[38;5;250m \u001b[39m\u001b[38;5;28;01mimport\u001b[39;00m ImageDataGenerator\n\u001b[32m      5\u001b[39m \u001b[38;5;28;01mfrom\u001b[39;00m\u001b[38;5;250m \u001b[39m\u001b[34;01msklearn\u001b[39;00m\u001b[34;01m.\u001b[39;00m\u001b[34;01mmodel_selection\u001b[39;00m\u001b[38;5;250m \u001b[39m\u001b[38;5;28;01mimport\u001b[39;00m train_test_split\n",
      "\u001b[31mModuleNotFoundError\u001b[39m: No module named 'tensorflow'"
     ]
    }
   ],
   "source": [
    "import os\n",
    "import cv2\n",
    "import numpy as np\n",
    "from tensorflow.keras.preprocessing.image import ImageDataGenerator\n",
    "from sklearn.model_selection import train_test_split"
   ]
  },
  {
   "cell_type": "code",
   "execution_count": 2,
   "id": "3ad7c1f3",
   "metadata": {
    "vscode": {
     "languageId": "plaintext"
    }
   },
   "outputs": [],
   "source": [
    "def preprocess_images(input_dir, output_dir, target_size=(224, 224)):\n",
    "    if not os.path.exists(output_dir):\n",
    "        os.makedirs(output_dir)\n",
    "    datagen = ImageDataGenerator(\n",
    "        rotation_range=20,\n",
    "        width_shift_range=0.2,\n",
    "        height_shift_range=0.2,\n",
    "        horizontal_flip=True,\n",
    "        zoom_range=0.2,\n",
    "        rescale=1./255\n",
    "    )\n",
    "    for class_name in ['bacterial_leaf_blight', 'brown_spot', 'leaf_smut']:\n",
    "        class_input = os.path.join(input_dir, class_name)\n",
    "        class_output = os.path.join(output_dir, class_name)\n",
    "        if not os.path.exists(class_output):\n",
    "            os.makedirs(class_output)\n",
    "        for img_name in os.listdir(class_input):\n",
    "            img_path = os.path.join(class_input, img_name)\n",
    "            img = cv2.imread(img_path)\n",
    "            if img is not None:\n",
    "                img = cv2.resize(img, target_size)\n",
    "                img = np.expand_dims(img, axis=0)\n",
    "                datagen.fit(img)\n",
    "                i = 0\n",
    "                for batch in datagen.flow(img, batch_size=1, save_to_dir=class_output, save_prefix='aug', save_format='jpg'):\n",
    "                    i += 1\n",
    "                    if i >= 5:  # Generate 5 augmented images per original\n",
    "                        break"
   ]
  },
  {
   "cell_type": "code",
   "execution_count": null,
   "id": "0846679f",
   "metadata": {
    "vscode": {
     "languageId": "plaintext"
    }
   },
   "outputs": [],
   "source": [
    "def split_dataset(data_dir, train_dir, val_dir, test_dir, test_size=0.2, val_size=0.25):\n",
    "    for class_name in ['bacterial_leaf_blight', 'brown_spot', 'leaf_smut']:\n",
    "        class_path = os.path.join(data_dir, class_name)\n",
    "        images = [os.path.join(class_path, img) for img in os.listdir(class_path)]\n",
    "        train_val, test = train_test_split(images, test_size=test_size, random_state=42)\n",
    "        train, val = train_test_split(train_val, test_size=val_size/(1-test_size), random_state=42)\n",
    "        for img in train: os.replace(img, os.path.join(train_dir, class_name, os.path.basename(img)))\n",
    "        for img in val: os.replace(img, os.path.join(val_dir, class_name, os.path.basename(img)))\n",
    "        for img in test: os.replace(img, os.path.join(test_dir, class_name, os.path.basename(img)))"
   ]
  },
  {
   "cell_type": "code",
   "execution_count": null,
   "id": "0c2115d4",
   "metadata": {
    "vscode": {
     "languageId": "plaintext"
    }
   },
   "outputs": [],
   "source": [
    "# Run preprocessing and splitting\n",
    "raw_dir = \"data/raw/mendeley\"  # Adjust if using kaggle or combined data\n",
    "augmented_dir = \"data/augmented\"\n",
    "processed_dir = \"data/processed\"\n",
    "preprocess_images(raw_dir, augmented_dir)\n",
    "split_dataset(augmented_dir, os.path.join(processed_dir, \"train\"), os.path.join(processed_dir, \"validation\"), os.path.join(processed_dir, \"test\"))\n",
    "print(\"Preprocessing and splitting completed.\")"
   ]
  }
 ],
 "metadata": {
  "kernelspec": {
   "display_name": "Python 3 (ipykernel)",
   "language": "python",
   "name": "python3"
  },
  "language_info": {
   "codemirror_mode": {
    "name": "ipython",
    "version": 3
   },
   "file_extension": ".py",
   "mimetype": "text/x-python",
   "name": "python",
   "nbconvert_exporter": "python",
   "pygments_lexer": "ipython3",
   "version": "3.13.3"
  }
 },
 "nbformat": 4,
 "nbformat_minor": 5
}
