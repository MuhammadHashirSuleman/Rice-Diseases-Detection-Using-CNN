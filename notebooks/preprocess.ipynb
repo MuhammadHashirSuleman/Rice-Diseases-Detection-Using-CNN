{
 "cells": [
  {
   "cell_type": "code",
   "execution_count": null,
   "id": "imports",
   "metadata": {},
   "outputs": [],
   "source": [
    "import os\n",
    "import cv2\n",
    "import numpy as np\n",
    "from tensorflow.keras.preprocessing.image import ImageDataGenerator\n",
    "from sklearn.model_selection import train_test_split\n",
    "from tqdm import tqdm"
   ]
  },
  {
   "cell_type": "code",
   "execution_count": null,
   "id": "preprocess_images",
   "metadata": {},
   "outputs": [],
   "source": [
    "def preprocess_images(input_dir, output_dir, target_size=(224, 224)):\n",
    "    if not os.path.exists(input_dir):\n",
    "        raise FileNotFoundError(f\"Input directory {input_dir} does not exist. Please add the dataset.\")\n",
    "    if not os.path.exists(output_dir):\n",
    "        os.makedirs(output_dir)\n",
    "    datagen = ImageDataGenerator(\n",
    "        rescale=1./255,\n",
    "        rotation_range=30,\n",
    "        width_shift_range=0.3,\n",
    "        height_shift_range=0.3,\n",
    "        horizontal_flip=True,\n",
    "        zoom_range=0.3,\n",
    "        shear_range=0.2\n",
    "    )\n",
    "    total_images = 0\n",
    "    for class_name in ['Bacterial Leaf Blight', 'Brown Spot', 'Leaf Smut']:\n",
    "        class_input = os.path.join(input_dir, class_name)\n",
    "        if os.path.exists(class_input):\n",
    "            total_images += len(os.listdir(class_input))\n",
    "    with tqdm(total=total_images, desc=\"Preprocessing Images\") as pbar:\n",
    "        for class_name in ['Bacterial Leaf Blight', 'Brown Spot', 'Leaf Smut']:\n",
    "            class_input = os.path.join(input_dir, class_name)\n",
    "            class_output = os.path.join(output_dir, class_name)\n",
    "            if not os.path.exists(class_output):\n",
    "                os.makedirs(class_output)\n",
    "            if os.path.exists(class_input):\n",
    "                for img_name in os.listdir(class_input):\n",
    "                    img_path = os.path.join(class_input, img_name)\n",
    "                    img = cv2.imread(img_path)\n",
    "                    if img is not None:\n",
    "                        img = cv2.resize(img, target_size)\n",
    "                        img = np.expand_dims(img, axis=0)\n",
    "                        # Generate 5 augmented images for Leaf Smut, 1 for others\n",
    "                        num_augmentations = 5 if class_name == 'Leaf Smut' else 1\n",
    "                        for i in range(num_augmentations):\n",
    "                            for batch in datagen.flow(img, batch_size=1, save_to_dir=class_output, save_prefix=f'aug_{i}', save_format='jpg'):\n",
    "                                break\n",
    "                    else:\n",
    "                        print(f\"Failed to load {img_path}, skipping...\")\n",
    "                    pbar.update(1)\n",
    "    print(f\"Preprocessing completed for {input_dir}.\")"
   ]
  },
  {
   "cell_type": "code",
   "execution_count": null,
   "id": "split_dataset",
   "metadata": {},
   "outputs": [],
   "source": [
    "def split_dataset(data_dir, train_dir, val_dir, test_dir, test_size=0.2, val_size=0.25):\n",
    "    if not os.path.exists(train_dir):\n",
    "        os.makedirs(train_dir, exist_ok=True)\n",
    "    if not os.path.exists(val_dir):\n",
    "        os.makedirs(val_dir, exist_ok=True)\n",
    "    if not os.path.exists(test_dir):\n",
    "        os.makedirs(test_dir, exist_ok=True)\n",
    "    total_images = 0\n",
    "    for class_name in ['Bacterial Leaf Blight', 'Brown Spot', 'Leaf Smut']:\n",
    "        class_path = os.path.join(data_dir, class_name)\n",
    "        if os.path.exists(class_path):\n",
    "            total_images += len(os.listdir(class_path))\n",
    "    with tqdm(total=total_images, desc=\"Splitting Dataset\") as pbar:\n",
    "        for class_name in ['Bacterial Leaf Blight', 'Brown Spot', 'Leaf Smut']:\n",
    "            class_path = os.path.join(data_dir, class_name)\n",
    "            if not os.path.exists(class_path):\n",
    "                continue\n",
    "            images = [os.path.join(class_path, img) for img in os.listdir(class_path)]\n",
    "            if not images:\n",
    "                print(f\"No images found in {class_path}, skipping...\")\n",
    "                continue\n",
    "            train_val, test = train_test_split(images, test_size=test_size, random_state=42)\n",
    "            train, val = train_test_split(train_val, test_size=val_size/(1-test_size), random_state=42)\n",
    "            for img in train:\n",
    "                os.replace(img, os.path.join(train_dir, class_name, os.path.basename(img)))\n",
    "                pbar.update(1)\n",
    "            for img in val:\n",
    "                os.replace(img, os.path.join(val_dir, class_name, os.path.basename(img)))\n",
    "                pbar.update(1)\n",
    "            for img in test:\n",
    "                os.replace(img, os.path.join(test_dir, class_name, os.path.basename(img)))\n",
    "                pbar.update(1)\n",
    "    print(f\"Dataset split completed for {data_dir}.\")"
   ]
  },
  {
   "cell_type": "code",
   "execution_count": null,
   "id": "main",
   "metadata": {},
   "outputs": [],
   "source": [
    "if __name__ == \"__main__\":\n",
    "    raw_dir = \"data/raw/mendeley\"\n",
    "    augmented_dir = \"data/augmented\"\n",
    "    processed_dir = \"data/processed\"\n",
    "    preprocess_images(raw_dir, augmented_dir)\n",
    "    split_dataset(augmented_dir, os.path.join(processed_dir, \"train\"), os.path.join(processed_dir, \"validation\"), os.path.join(processed_dir, \"test\"))"
   ]
  }
 ],
 "metadata": {
  "kernelspec": {
   "display_name": "Python 3 (ipykernel)",
   "language": "python",
   "name": "python3"
  },
  "language_info": {
   "codemirror_mode": {
    "name": "ipython",
    "version": 3
   },
   "file_extension": ".py",
   "mimetype": "text/x-python",
   "name": "python",
   "nbconvert_exporter": "python",
   "pygments_lexer": "ipython3",
   "version": "3.13.3"
  }
 },
 "nbformat": 4,
 "nbformat_minor": 5
}
