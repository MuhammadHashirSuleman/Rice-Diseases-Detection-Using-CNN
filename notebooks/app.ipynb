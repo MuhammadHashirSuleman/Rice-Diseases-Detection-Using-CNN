{
 "cells": [
  {
   "cell_type": "code",
   "execution_count": null,
   "metadata": {},
   "outputs": [],
   "source": [
    "import streamlit as st\n",
    "import cv2\n",
    "import numpy as np\n",
    "import matplotlib.pyplot as plt\n",
    "from detect_disease import detect_disease\n",
    "from tensorflow.keras.preprocessing.image import ImageDataGenerator"
   ]
  },
  {
   "cell_type": "code",
   "execution_count": null,
   "metadata": {},
   "outputs": [],
   "source": [
    "st.title(\"Rice Plant Disease Detection\")\n",
    "\n",
    "# File uploader for single image prediction\n",
    "uploaded_file = st.file_uploader(\"Upload Rice Leaf Image\", type=[\"jpg\", \"png\"])\n",
    "if uploaded_file:\n",
    "    # Read and decode the uploaded image\n",
    "    img = cv2.imdecode(np.frombuffer(uploaded_file.read(), np.uint8), 1)\n",
    "    \n",
    "    # Get prediction\n",
    "    result, confidence = detect_disease(img)\n",
    "    \n",
    "    # Display original image\n",
    "    st.image(img, caption=\"Uploaded Image\", width=300)\n",
    "    st.write(f\"Detected: {result} (Confidence: {confidence:.2f})\")\n",
    "    \n",
    "    # Visualize prediction on the image\n",
    "    fig = plt.figure(figsize=(5, 5))\n",
    "    plt.imshow(cv2.cvtColor(img, cv2.COLOR_BGR2RGB))\n",
    "    plt.text(10, 30, f\"{result}\\n(Conf: {confidence:.2f})\", \n",
    "             color='red', fontsize=10, bbox=dict(facecolor='white', alpha=0.8))\n",
    "    plt.axis('off')\n",
    "    plt.tight_layout()\n",
    "    st.pyplot(fig)"
   ]
  },
  {
   "cell_type": "code",
   "execution_count": null,
   "metadata": {},
   "outputs": [],
   "source": [
    "# Optional: Show test set predictions\n",
    "if st.button(\"Show Test Set Predictions\"):\n",
    "    test_dir = \"data/processed/test\"\n",
    "    test_datagen = ImageDataGenerator(rescale=1./255)\n",
    "    test_generator = test_datagen.flow_from_directory(\n",
    "        test_dir,\n",
    "        target_size=(224, 224),\n",
    "        batch_size=9,\n",
    "        class_mode='categorical',\n",
    "        shuffle=True\n",
    "    )\n",
    "    imgs, _ = next(test_generator)\n",
    "    fig = plt.figure(figsize=(15, 15))\n",
    "    columns = 3\n",
    "    rows = 3\n",
    "    for i in range(columns * rows):\n",
    "        fig.add_subplot(rows, columns, i + 1)\n",
    "        img = imgs[i]\n",
    "        predicted_class, confidence = detect_disease(img)\n",
    "        plt.imshow(img)\n",
    "        plt.text(10, 30, f\"{predicted_class}\\n(Conf: {confidence:.2f})\", \n",
    "                 color='red', fontsize=10, bbox=dict(facecolor='white', alpha=0.8))\n",
    "        plt.axis('off')\n",
    "    plt.tight_layout()\n",
    "    st.pyplot(fig)"
   ]
  }
 ],
 "metadata": {
  "kernelspec": {
   "display_name": "Python 3",
   "language": "python",
   "name": "python3"
  },
  "language_info": {
   "name": "python"
  }
 },
 "nbformat": 4,
 "nbformat_minor": 5
}