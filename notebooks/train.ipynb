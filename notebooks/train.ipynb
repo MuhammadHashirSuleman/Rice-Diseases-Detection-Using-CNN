{
 "cells": [
  {
   "cell_type": "code",
   "execution_count": null,
   "id": "c1fc6ef6",
   "metadata": {
    "vscode": {
     "languageId": "plaintext"
    }
   },
   "outputs": [],
   "source": [
    "import tensorflow as tf\n",
    "from tensorflow.keras.applications import ResNet50\n",
    "from tensorflow.keras.layers import GlobalAveragePooling2D, Dense\n",
    "from tensorflow.keras.models import Model\n",
    "from tensorflow.keras.preprocessing.image import ImageDataGenerator"
   ]
  },
  {
   "cell_type": "code",
   "execution_count": null,
   "id": "d2eedc3d",
   "metadata": {
    "vscode": {
     "languageId": "plaintext"
    }
   },
   "outputs": [],
   "source": [
    "def create_model():\n",
    "    base_model = ResNet50(weights='imagenet', include_top=False, input_shape=(224, 224, 3))\n",
    "    x = base_model.output\n",
    "    x = GlobalAveragePooling2D()(x)\n",
    "    x = Dense(3, activation='softmax')(x)  # 3 classes: bacterial_leaf_blight, brown_spot, leaf_smut\n",
    "    model = Model(inputs=base_model.input, outputs=x)\n",
    "    for layer in base_model.layers:\n",
    "        layer.trainable = False\n",
    "    model.compile(optimizer='adam', loss='categorical_crossentropy', metrics=['accuracy'])\n",
    "    return model"
   ]
  },
  {
   "cell_type": "code",
   "execution_count": null,
   "id": "98e01116",
   "metadata": {
    "vscode": {
     "languageId": "plaintext"
    }
   },
   "outputs": [],
   "source": [
    "def train_model():\n",
    "    train_dir = \"data/processed/train\"\n",
    "    val_dir = \"data/processed/validation\"\n",
    "    train_datagen = ImageDataGenerator(rescale=1./255)\n",
    "    val_datagen = ImageDataGenerator(rescale=1./255)\n",
    "    train_generator = train_datagen.flow_from_directory(\n",
    "        train_dir, target_size=(224, 224), batch_size=32, class_mode='categorical')\n",
    "    val_generator = val_datagen.flow_from_directory(\n",
    "        val_dir, target_size=(224, 224), batch_size=32, class_mode='categorical')\n",
    "    model = create_model()\n",
    "    checkpoint = tf.keras.callbacks.ModelCheckpoint('models/trained_model.h5', save_best_only=True, monitor='val_accuracy')\n",
    "    model.fit(train_generator, epochs=20, validation_data=val_generator, callbacks=[checkpoint])\n",
    "    return model"
   ]
  },
  {
   "cell_type": "code",
   "execution_count": null,
   "id": "c1632eee",
   "metadata": {
    "vscode": {
     "languageId": "plaintext"
    }
   },
   "outputs": [],
   "source": [
    "# Train the model\n",
    "model = train_model()\n",
    "print(\"Training completed. Model saved to models/trained_model.h5\")"
   ]
  }
 ],
 "metadata": {
  "language_info": {
   "name": "python"
  }
 },
 "nbformat": 4,
 "nbformat_minor": 5
}
