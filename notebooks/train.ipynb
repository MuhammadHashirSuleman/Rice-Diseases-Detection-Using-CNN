{
 "cells": [
  {
   "cell_type": "code",
   "execution_count": null,
   "id": "imports",
   "metadata": {},
   "outputs": [],
   "source": [
    "import tensorflow as tf\n",
    "from tensorflow.keras.applications import ResNet50\n",
    "from tensorflow.keras.layers import GlobalAveragePooling2D, Dense\n",
    "from tensorflow.keras.models import Model\n",
    "from tensorflow.keras.preprocessing.image import ImageDataGenerator\n",
    "from sklearn.utils.class_weight import compute_class_weight\n",
    "import numpy as np"
   ]
  },
  {
   "cell_type": "code",
   "execution_count": null,
   "id": "create_model",
   "metadata": {},
   "outputs": [],
   "source": [
    "def create_model():\n",
    "    weight_path = 'E:/weights/resnet50_weights_tf_dim_ordering_tf_kernels_notop.h5'\n",
    "    base_model = ResNet50(weights=weight_path, include_top=False, input_shape=(224, 224, 3))\n",
    "    x = base_model.output\n",
    "    x = GlobalAveragePooling2D()(x)\n",
    "    x = Dense(3, activation='softmax')(x)  # 3 classes: Bacterial Leaf Blight, Brown Spot, Leaf Smut\n",
    "    model = Model(inputs=base_model.input, outputs=x)\n",
    "    # Unfreeze last ~30 layers for fine-tuning (adjust based on ResNet50 architecture)\n",
    "    for layer in base_model.layers:\n",
    "        layer.trainable = False\n",
    "    for layer in base_model.layers[-30:]:\n",
    "        layer.trainable = True\n",
    "    model.compile(optimizer=tf.keras.optimizers.Adam(learning_rate=0.00001), \n",
    "                  loss='categorical_crossentropy', \n",
    "                  metrics=['accuracy'])\n",
    "    return model"
   ]
  },
  {
   "cell_type": "code",
   "execution_count": null,
   "id": "train_model",
   "metadata": {},
   "outputs": [],
   "source": [
    "def train_model():\n",
    "    train_dir = \"data/processed/train\"\n",
    "    val_dir = \"data/processed/validation\"\n",
    "    # Enhanced data augmentation for training\n",
    "    train_datagen = ImageDataGenerator(\n",
    "        rescale=1./255,\n",
    "        rotation_range=30,\n",
    "        width_shift_range=0.3,\n",
    "        height_shift_range=0.3,\n",
    "        horizontal_flip=True,\n",
    "        zoom_range=0.3,\n",
    "        shear_range=0.2\n",
    "    )\n",
    "    val_datagen = ImageDataGenerator(rescale=1./255)\n",
    "    train_generator = train_datagen.flow_from_directory(\n",
    "        train_dir, target_size=(224, 224), batch_size=16, class_mode='categorical')\n",
    "    val_generator = val_datagen.flow_from_directory(\n",
    "        val_dir, target_size=(224, 224), batch_size=16, class_mode='categorical')\n",
    "    # Compute class weights to handle imbalance\n",
    "    class_weights = compute_class_weight(\n",
    "        class_weight='balanced',\n",
    "        classes=np.unique(train_generator.classes),\n",
    "        y=train_generator.classes\n",
    "    )\n",
    "    class_weight_dict = dict(enumerate(class_weights))\n",
    "    model = create_model()\n",
    "    model.load_weights('models/trained_model.h5')  # Load existing trained weights\n",
    "    # Callbacks for checkpointing and learning rate scheduling\n",
    "    checkpoint = tf.keras.callbacks.ModelCheckpoint(\n",
    "        'models/finetuned_model.h5', save_best_only=True, monitor='val_accuracy')\n",
    "    lr_scheduler = tf.keras.callbacks.ReduceLROnPlateau(\n",
    "        monitor='val_loss', factor=0.5, patience=1, min_lr=1e-6)\n",
    "    # Fine-tune for 3 epochs\n",
    "    model.fit(\n",
    "        train_generator,\n",
    "        epochs=3,\n",
    "        validation_data=val_generator,\n",
    "        class_weight=class_weight_dict,\n",
    "        callbacks=[checkpoint, lr_scheduler]\n",
    "    )"
   ]
  },
  {
   "cell_type": "code",
   "execution_count": null,
   "id": "main",
   "metadata": {},
   "outputs": [],
   "source": [
    "if __name__ == \"__main__\":\n",
    "    train_model()"
   ]
  }
 ],
 "metadata": {
  "language_info": {
   "name": "python"
  }
 },
 "nbformat": 4,
 "nbformat_minor": 5
}
