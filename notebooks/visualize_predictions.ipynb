{
 "cells": [
  {
   "cell_type": "code",
   "execution_count": null,
   "metadata": {},
   "outputs": [],
   "source": [
    "import tensorflow as tf\n",
    "from tensorflow.keras.preprocessing.image import ImageDataGenerator\n",
    "import numpy as np\n",
    "import matplotlib.pyplot as plt\n",
    "from detect_disease import detect_disease"
   ]
  },
  {
   "cell_type": "code",
   "execution_count": null,
   "metadata": {},
   "outputs": [],
   "source": [
    "# Define test directory and class names\n",
    "test_dir = \"data/processed/test\"\n",
    "class_names = ['Bacterial Leaf Blight', 'Brown Spot', 'Leaf Smut']\n",
    "\n",
    "# Create test data generator\n",
    "test_datagen = ImageDataGenerator(rescale=1./255)\n",
    "test_generator = test_datagen.flow_from_directory(\n",
    "    test_dir,\n",
    "    target_size=(224, 224),\n",
    "    batch_size=9,  # Load 9 images for 3x3 grid\n",
    "    class_mode='categorical',\n",
    "    shuffle=True\n",
    ")"
   ]
  },
  {
   "cell_type": "code",
   "execution_count": null,
   "metadata": {},
   "outputs": [],
   "source": [
    "# Visualize predictions\n",
    "def visualize_predictions():\n",
    "    imgs, _ = next(test_generator)  # Get one batch of 9 images\n",
    "    fig = plt.figure(figsize=(15, 15))\n",
    "    columns = 3\n",
    "    rows = 3\n",
    "    for i in range(columns * rows):\n",
    "        fig.add_subplot(rows, columns, i + 1)\n",
    "        img = imgs[i]\n",
    "        # Predict using detect_disease\n",
    "        predicted_class, confidence = detect_disease(img)\n",
    "        # Display image and prediction\n",
    "        plt.imshow(img)\n",
    "        plt.text(10, 30, f\"{predicted_class}\\n(Conf: {confidence:.2f})\", \n",
    "                 color='red', fontsize=10, bbox=dict(facecolor='white', alpha=0.8))\n",
    "        plt.axis('off')\n",
    "    plt.tight_layout()\n",
    "    plt.savefig('predictions_visualization.png')  # Save the figure\n",
    "    plt.show()"
   ]
  },
  {
   "cell_type": "code",
   "execution_count": null,
   "metadata": {},
   "outputs": [],
   "source": [
    "visualize_predictions()"
   ]
  }
 ],
 "metadata": {
  "kernelspec": {
   "display_name": "Python 3",
   "language": "python",
   "name": "python3"
  },
  "language_info": {
   "name": "python"
  }
 },
 "nbformat": 4,
 "nbformat_minor": 5
}