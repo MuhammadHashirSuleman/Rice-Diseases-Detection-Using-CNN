{
 "cells": [
  {
   "cell_type": "code",
   "execution_count": null,
   "metadata": {},
   "outputs": [],
   "source": [
    "import os\n",
    "import cv2\n",
    "from tqdm import tqdm"
   ]
  },
  {
   "cell_type": "code",
   "execution_count": null,
   "metadata": {},
   "outputs": [],
   "source": [
    "train_dir = \"data/processed/train\"\n",
    "bad_images = []\n",
    "\n",
    "for class_name in ['Bacterial Leaf Blight', 'Brown Spot', 'Leaf Smut']:\n",
    "    class_path = os.path.join(train_dir, class_name)\n",
    "    if os.path.exists(class_path):\n",
    "        for img_name in tqdm(os.listdir(class_path), desc=f\"Checking {class_name}\"):\n",
    "            img_path = os.path.join(class_path, img_name)\n",
    "            try:\n",
    "                img = cv2.imread(img_path)\n",
    "                if img is None:\n",
    "                    bad_images.append(img_path)\n",
    "            except Exception as e:\n",
    "                bad_images.append(img_path)\n",
    "                print(f\"Error with {img_path}: {e}\")\n",
    "\n",
    "if bad_images:\n",
    "    print(\"Found bad images:\", bad_images)\n",
    "    with open(\"bad_images.txt\", \"w\") as f:\n",
    "        for img in bad_images:\n",
    "            f.write(img + \"\\n\")\n",
    "else:\n",
    "    print(\"No bad images found.\")"
   ]
  }
 ],
 "metadata": {
  "kernelspec": {
   "display_name": "Python 3",
   "language": "python",
   "name": "python3"
  },
  "language_info": {
   "name": "python"
  }
 },
 "nbformat": 4,
 "nbformat_minor": 5
}